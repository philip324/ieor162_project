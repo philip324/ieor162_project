{
  "nbformat": 4,
  "nbformat_minor": 0,
  "metadata": {
    "colab": {
      "name": "IEOR165Project.ipynb",
      "version": "0.3.2",
      "provenance": [],
      "collapsed_sections": [],
      "include_colab_link": true
    },
    "kernelspec": {
      "name": "python3",
      "display_name": "Python 3"
    }
  },
  "cells": [
    {
      "cell_type": "markdown",
      "metadata": {
        "id": "view-in-github",
        "colab_type": "text"
      },
      "source": [
        "<a href=\"https://colab.research.google.com/github/philip324/ieor162_project/blob/master/IEOR165Project.ipynb\" target=\"_parent\"><img src=\"https://colab.research.google.com/assets/colab-badge.svg\" alt=\"Open In Colab\"/></a>"
      ]
    },
    {
      "cell_type": "code",
      "metadata": {
        "id": "iFfEk_mlreju",
        "colab_type": "code",
        "colab": {}
      },
      "source": [
        "from __future__ import print_function\n",
        "\n",
        "import pandas as pd\n",
        "pd.__version__\n",
        "import numpy as np\n",
        "from sklearn.linear_model import Ridge, Lasso, ElasticNet\n",
        "from sklearn.svm import LinearSVC, SVC\n",
        "import matplotlib.pyplot as plt"
      ],
      "execution_count": 0,
      "outputs": []
    },
    {
      "cell_type": "markdown",
      "metadata": {
        "id": "uN9NELTBv0VT",
        "colab_type": "text"
      },
      "source": [
        "# Loading **Data**"
      ]
    },
    {
      "cell_type": "code",
      "metadata": {
        "id": "c45xnuCctU09",
        "colab_type": "code",
        "outputId": "2d73d67d-8607-4108-cac6-c30b44916323",
        "colab": {
          "base_uri": "https://localhost:8080/",
          "height": 54
        }
      },
      "source": [
        "# Code to read csv file into Colaboratory:\n",
        "!pip install -U -q PyDrive\n",
        "from pydrive.auth import GoogleAuth\n",
        "from pydrive.drive import GoogleDrive\n",
        "from google.colab import auth\n",
        "from oauth2client.client import GoogleCredentials\n",
        "# Authenticate and create the PyDrive client.\n",
        "auth.authenticate_user()\n",
        "gauth = GoogleAuth()\n",
        "gauth.credentials = GoogleCredentials.get_application_default()\n",
        "drive = GoogleDrive(gauth)"
      ],
      "execution_count": 0,
      "outputs": [
        {
          "output_type": "stream",
          "text": [
            "\u001b[?25l\r\u001b[K     |▎                               | 10kB 16.2MB/s eta 0:00:01\r\u001b[K     |▋                               | 20kB 3.4MB/s eta 0:00:01\r\u001b[K     |█                               | 30kB 4.9MB/s eta 0:00:01\r\u001b[K     |█▎                              | 40kB 3.1MB/s eta 0:00:01\r\u001b[K     |█▋                              | 51kB 3.8MB/s eta 0:00:01\r\u001b[K     |██                              | 61kB 4.5MB/s eta 0:00:01\r\u001b[K     |██▎                             | 71kB 5.2MB/s eta 0:00:01\r\u001b[K     |██▋                             | 81kB 5.8MB/s eta 0:00:01\r\u001b[K     |███                             | 92kB 6.5MB/s eta 0:00:01\r\u001b[K     |███▎                            | 102kB 5.0MB/s eta 0:00:01\r\u001b[K     |███▋                            | 112kB 5.0MB/s eta 0:00:01\r\u001b[K     |████                            | 122kB 5.0MB/s eta 0:00:01\r\u001b[K     |████▎                           | 133kB 5.0MB/s eta 0:00:01\r\u001b[K     |████▋                           | 143kB 5.0MB/s eta 0:00:01\r\u001b[K     |█████                           | 153kB 5.0MB/s eta 0:00:01\r\u001b[K     |█████▎                          | 163kB 5.0MB/s eta 0:00:01\r\u001b[K     |█████▋                          | 174kB 5.0MB/s eta 0:00:01\r\u001b[K     |██████                          | 184kB 5.0MB/s eta 0:00:01\r\u001b[K     |██████▎                         | 194kB 5.0MB/s eta 0:00:01\r\u001b[K     |██████▋                         | 204kB 5.0MB/s eta 0:00:01\r\u001b[K     |███████                         | 215kB 5.0MB/s eta 0:00:01\r\u001b[K     |███████▎                        | 225kB 5.0MB/s eta 0:00:01\r\u001b[K     |███████▋                        | 235kB 5.0MB/s eta 0:00:01\r\u001b[K     |████████                        | 245kB 5.0MB/s eta 0:00:01\r\u001b[K     |████████▎                       | 256kB 5.0MB/s eta 0:00:01\r\u001b[K     |████████▋                       | 266kB 5.0MB/s eta 0:00:01\r\u001b[K     |█████████                       | 276kB 5.0MB/s eta 0:00:01\r\u001b[K     |█████████▎                      | 286kB 5.0MB/s eta 0:00:01\r\u001b[K     |█████████▋                      | 296kB 5.0MB/s eta 0:00:01\r\u001b[K     |██████████                      | 307kB 5.0MB/s eta 0:00:01\r\u001b[K     |██████████▎                     | 317kB 5.0MB/s eta 0:00:01\r\u001b[K     |██████████▋                     | 327kB 5.0MB/s eta 0:00:01\r\u001b[K     |███████████                     | 337kB 5.0MB/s eta 0:00:01\r\u001b[K     |███████████▎                    | 348kB 5.0MB/s eta 0:00:01\r\u001b[K     |███████████▋                    | 358kB 5.0MB/s eta 0:00:01\r\u001b[K     |████████████                    | 368kB 5.0MB/s eta 0:00:01\r\u001b[K     |████████████▎                   | 378kB 5.0MB/s eta 0:00:01\r\u001b[K     |████████████▋                   | 389kB 5.0MB/s eta 0:00:01\r\u001b[K     |█████████████                   | 399kB 5.0MB/s eta 0:00:01\r\u001b[K     |█████████████▎                  | 409kB 5.0MB/s eta 0:00:01\r\u001b[K     |█████████████▋                  | 419kB 5.0MB/s eta 0:00:01\r\u001b[K     |██████████████                  | 430kB 5.0MB/s eta 0:00:01\r\u001b[K     |██████████████▎                 | 440kB 5.0MB/s eta 0:00:01\r\u001b[K     |██████████████▋                 | 450kB 5.0MB/s eta 0:00:01\r\u001b[K     |███████████████                 | 460kB 5.0MB/s eta 0:00:01\r\u001b[K     |███████████████▎                | 471kB 5.0MB/s eta 0:00:01\r\u001b[K     |███████████████▋                | 481kB 5.0MB/s eta 0:00:01\r\u001b[K     |████████████████                | 491kB 5.0MB/s eta 0:00:01\r\u001b[K     |████████████████▎               | 501kB 5.0MB/s eta 0:00:01\r\u001b[K     |████████████████▋               | 512kB 5.0MB/s eta 0:00:01\r\u001b[K     |█████████████████               | 522kB 5.0MB/s eta 0:00:01\r\u001b[K     |█████████████████▎              | 532kB 5.0MB/s eta 0:00:01\r\u001b[K     |█████████████████▋              | 542kB 5.0MB/s eta 0:00:01\r\u001b[K     |██████████████████              | 552kB 5.0MB/s eta 0:00:01\r\u001b[K     |██████████████████▎             | 563kB 5.0MB/s eta 0:00:01\r\u001b[K     |██████████████████▋             | 573kB 5.0MB/s eta 0:00:01\r\u001b[K     |███████████████████             | 583kB 5.0MB/s eta 0:00:01\r\u001b[K     |███████████████████▎            | 593kB 5.0MB/s eta 0:00:01\r\u001b[K     |███████████████████▋            | 604kB 5.0MB/s eta 0:00:01\r\u001b[K     |████████████████████            | 614kB 5.0MB/s eta 0:00:01\r\u001b[K     |████████████████████▎           | 624kB 5.0MB/s eta 0:00:01\r\u001b[K     |████████████████████▋           | 634kB 5.0MB/s eta 0:00:01\r\u001b[K     |█████████████████████           | 645kB 5.0MB/s eta 0:00:01\r\u001b[K     |█████████████████████▎          | 655kB 5.0MB/s eta 0:00:01\r\u001b[K     |█████████████████████▋          | 665kB 5.0MB/s eta 0:00:01\r\u001b[K     |██████████████████████          | 675kB 5.0MB/s eta 0:00:01\r\u001b[K     |██████████████████████▎         | 686kB 5.0MB/s eta 0:00:01\r\u001b[K     |██████████████████████▋         | 696kB 5.0MB/s eta 0:00:01\r\u001b[K     |███████████████████████         | 706kB 5.0MB/s eta 0:00:01\r\u001b[K     |███████████████████████▎        | 716kB 5.0MB/s eta 0:00:01\r\u001b[K     |███████████████████████▋        | 727kB 5.0MB/s eta 0:00:01\r\u001b[K     |████████████████████████        | 737kB 5.0MB/s eta 0:00:01\r\u001b[K     |████████████████████████▎       | 747kB 5.0MB/s eta 0:00:01\r\u001b[K     |████████████████████████▋       | 757kB 5.0MB/s eta 0:00:01\r\u001b[K     |████████████████████████▉       | 768kB 5.0MB/s eta 0:00:01\r\u001b[K     |█████████████████████████▏      | 778kB 5.0MB/s eta 0:00:01\r\u001b[K     |█████████████████████████▌      | 788kB 5.0MB/s eta 0:00:01\r\u001b[K     |█████████████████████████▉      | 798kB 5.0MB/s eta 0:00:01\r\u001b[K     |██████████████████████████▏     | 808kB 5.0MB/s eta 0:00:01\r\u001b[K     |██████████████████████████▌     | 819kB 5.0MB/s eta 0:00:01\r\u001b[K     |██████████████████████████▉     | 829kB 5.0MB/s eta 0:00:01\r\u001b[K     |███████████████████████████▏    | 839kB 5.0MB/s eta 0:00:01\r\u001b[K     |███████████████████████████▌    | 849kB 5.0MB/s eta 0:00:01\r\u001b[K     |███████████████████████████▉    | 860kB 5.0MB/s eta 0:00:01\r\u001b[K     |████████████████████████████▏   | 870kB 5.0MB/s eta 0:00:01\r\u001b[K     |████████████████████████████▌   | 880kB 5.0MB/s eta 0:00:01\r\u001b[K     |████████████████████████████▉   | 890kB 5.0MB/s eta 0:00:01\r\u001b[K     |█████████████████████████████▏  | 901kB 5.0MB/s eta 0:00:01\r\u001b[K     |█████████████████████████████▌  | 911kB 5.0MB/s eta 0:00:01\r\u001b[K     |█████████████████████████████▉  | 921kB 5.0MB/s eta 0:00:01\r\u001b[K     |██████████████████████████████▏ | 931kB 5.0MB/s eta 0:00:01\r\u001b[K     |██████████████████████████████▌ | 942kB 5.0MB/s eta 0:00:01\r\u001b[K     |██████████████████████████████▉ | 952kB 5.0MB/s eta 0:00:01\r\u001b[K     |███████████████████████████████▏| 962kB 5.0MB/s eta 0:00:01\r\u001b[K     |███████████████████████████████▌| 972kB 5.0MB/s eta 0:00:01\r\u001b[K     |███████████████████████████████▉| 983kB 5.0MB/s eta 0:00:01\r\u001b[K     |████████████████████████████████| 993kB 5.0MB/s \n",
            "\u001b[?25h  Building wheel for PyDrive (setup.py) ... \u001b[?25l\u001b[?25hdone\n"
          ],
          "name": "stdout"
        }
      ]
    },
    {
      "cell_type": "markdown",
      "metadata": {
        "id": "UsZIuG2ppikS",
        "colab_type": "text"
      },
      "source": [
        "1. Use the following methods to identify the coefficients of a linear model relating wine quality to different features of the wine: (1) ordinary least squares (OLS), (2) ridge regression (RR), (3) lasso regression, (4) elastic net. Make sure to include a constant (intercept) term in your model, and choose the tuning parameters using cross-validation. You may use any programming language you would like to. For your solutions, please include (i) plots of tuning parameters versus cross-validation error, (ii) coefficients (labeled by the feature) computed by each method, (iii) the minimum cross-validation error for each method, and (iv) the source code used to generate the plots and coefficients. Some hints are below:\n",
        "\n",
        "• a constant (intercept) term can be included in OLS by solving"
      ]
    },
    {
      "cell_type": "code",
      "metadata": {
        "id": "VYCbZu8Quk_h",
        "colab_type": "code",
        "outputId": "4bb3243d-7dc3-4af3-d652-90fae8d7dfc1",
        "colab": {
          "base_uri": "https://localhost:8080/",
          "height": 206
        }
      },
      "source": [
        "link = 'https://drive.google.com/open?id=1JaaviN2vhUI7Kbluodo2wcUZ1bDjDVBg'\n",
        "fluff, id = link.split('=')\n",
        "downloaded = drive.CreateFile({'id':id}) \n",
        "downloaded.GetContentFile('winequality-red.csv')  \n",
        "import statsmodels.formula.api as sm\n",
        "winequality_red = pd.read_csv('winequality-red.csv')\n",
        "winequality_red = winequality_red.drop(columns = ['Unnamed: 12','Unnamed: 13' ])\n",
        "wineequality_red = winequality_red\n",
        "winequality_red.head()"
      ],
      "execution_count": 0,
      "outputs": [
        {
          "output_type": "execute_result",
          "data": {
            "text/html": [
              "<div>\n",
              "<style scoped>\n",
              "    .dataframe tbody tr th:only-of-type {\n",
              "        vertical-align: middle;\n",
              "    }\n",
              "\n",
              "    .dataframe tbody tr th {\n",
              "        vertical-align: top;\n",
              "    }\n",
              "\n",
              "    .dataframe thead th {\n",
              "        text-align: right;\n",
              "    }\n",
              "</style>\n",
              "<table border=\"1\" class=\"dataframe\">\n",
              "  <thead>\n",
              "    <tr style=\"text-align: right;\">\n",
              "      <th></th>\n",
              "      <th>fixed acidity</th>\n",
              "      <th>volatile acidity</th>\n",
              "      <th>citric acid</th>\n",
              "      <th>residual sugar</th>\n",
              "      <th>chlorides</th>\n",
              "      <th>free sulfur dioxide</th>\n",
              "      <th>total sulfur dioxide</th>\n",
              "      <th>density</th>\n",
              "      <th>pH</th>\n",
              "      <th>sulphates</th>\n",
              "      <th>alcohol</th>\n",
              "      <th>quality</th>\n",
              "    </tr>\n",
              "  </thead>\n",
              "  <tbody>\n",
              "    <tr>\n",
              "      <th>0</th>\n",
              "      <td>7.4</td>\n",
              "      <td>0.70</td>\n",
              "      <td>0.00</td>\n",
              "      <td>1.9</td>\n",
              "      <td>0.076</td>\n",
              "      <td>11.0</td>\n",
              "      <td>34.0</td>\n",
              "      <td>0.9978</td>\n",
              "      <td>3.51</td>\n",
              "      <td>0.56</td>\n",
              "      <td>9.4</td>\n",
              "      <td>5</td>\n",
              "    </tr>\n",
              "    <tr>\n",
              "      <th>1</th>\n",
              "      <td>7.8</td>\n",
              "      <td>0.88</td>\n",
              "      <td>0.00</td>\n",
              "      <td>2.6</td>\n",
              "      <td>0.098</td>\n",
              "      <td>25.0</td>\n",
              "      <td>67.0</td>\n",
              "      <td>0.9968</td>\n",
              "      <td>3.20</td>\n",
              "      <td>0.68</td>\n",
              "      <td>9.8</td>\n",
              "      <td>5</td>\n",
              "    </tr>\n",
              "    <tr>\n",
              "      <th>2</th>\n",
              "      <td>7.8</td>\n",
              "      <td>0.76</td>\n",
              "      <td>0.04</td>\n",
              "      <td>2.3</td>\n",
              "      <td>0.092</td>\n",
              "      <td>15.0</td>\n",
              "      <td>54.0</td>\n",
              "      <td>0.9970</td>\n",
              "      <td>3.26</td>\n",
              "      <td>0.65</td>\n",
              "      <td>9.8</td>\n",
              "      <td>5</td>\n",
              "    </tr>\n",
              "    <tr>\n",
              "      <th>3</th>\n",
              "      <td>11.2</td>\n",
              "      <td>0.28</td>\n",
              "      <td>0.56</td>\n",
              "      <td>1.9</td>\n",
              "      <td>0.075</td>\n",
              "      <td>17.0</td>\n",
              "      <td>60.0</td>\n",
              "      <td>0.9980</td>\n",
              "      <td>3.16</td>\n",
              "      <td>0.58</td>\n",
              "      <td>9.8</td>\n",
              "      <td>6</td>\n",
              "    </tr>\n",
              "    <tr>\n",
              "      <th>4</th>\n",
              "      <td>7.4</td>\n",
              "      <td>0.70</td>\n",
              "      <td>0.00</td>\n",
              "      <td>1.9</td>\n",
              "      <td>0.076</td>\n",
              "      <td>11.0</td>\n",
              "      <td>34.0</td>\n",
              "      <td>0.9978</td>\n",
              "      <td>3.51</td>\n",
              "      <td>0.56</td>\n",
              "      <td>9.4</td>\n",
              "      <td>5</td>\n",
              "    </tr>\n",
              "  </tbody>\n",
              "</table>\n",
              "</div>"
            ],
            "text/plain": [
              "   fixed acidity  volatile acidity  citric acid  residual sugar  chlorides  \\\n",
              "0            7.4              0.70         0.00             1.9      0.076   \n",
              "1            7.8              0.88         0.00             2.6      0.098   \n",
              "2            7.8              0.76         0.04             2.3      0.092   \n",
              "3           11.2              0.28         0.56             1.9      0.075   \n",
              "4            7.4              0.70         0.00             1.9      0.076   \n",
              "\n",
              "   free sulfur dioxide  total sulfur dioxide  density    pH  sulphates  \\\n",
              "0                 11.0                  34.0   0.9978  3.51       0.56   \n",
              "1                 25.0                  67.0   0.9968  3.20       0.68   \n",
              "2                 15.0                  54.0   0.9970  3.26       0.65   \n",
              "3                 17.0                  60.0   0.9980  3.16       0.58   \n",
              "4                 11.0                  34.0   0.9978  3.51       0.56   \n",
              "\n",
              "   alcohol  quality  \n",
              "0      9.4        5  \n",
              "1      9.8        5  \n",
              "2      9.8        5  \n",
              "3      9.8        6  \n",
              "4      9.4        5  "
            ]
          },
          "metadata": {
            "tags": []
          },
          "execution_count": 3
        }
      ]
    },
    {
      "cell_type": "markdown",
      "metadata": {
        "id": "zFx2GhbOoQIo",
        "colab_type": "text"
      },
      "source": [
        "NUMBER 2: The data consists of annual spending on different categories of products by each retailer, along with\n",
        "corresponding data on the sales channel (Hotel/Restaurant/Cafe = 1 vs. Retail = 2) and the\n",
        "region (Lisbon = 1, Oporto = 2, or Other = 3) of the retailer.\n",
        "\n",
        "Use the following methods to construct an SVM that uses spending on different categories of\n",
        "products to predict the sales channel: (1) linear SVM, (2) SVM with polynomial kernel, (3)\n",
        "SVM with Gaussian kernel. Choose the tuning parameters using cross-validation. You may\n",
        "use any programming language you would like to. For your solutions, please include (i) plots\n",
        "of tuning parameters versus cross-validation error, (ii) coe\u000ecients computed by linear SVM,\n",
        "(iii) the minimum cross-validation error for each method, and (iv) the source code used to\n",
        "generate the plots and coe\u000ecients. For the linear SVM, relate the coe\u000ecients to the features."
      ]
    },
    {
      "cell_type": "code",
      "metadata": {
        "id": "5e4g9mqCvhQf",
        "colab_type": "code",
        "outputId": "0642bc2d-2148-41b0-adc5-2799f43f7412",
        "colab": {
          "base_uri": "https://localhost:8080/",
          "height": 300
        }
      },
      "source": [
        "link2 = 'https://drive.google.com/open?id=1P9qLUOU5x_bzoVE7e-JrNO3p1vvMOu7U'\n",
        "fluff, id = link2.split('=')\n",
        "downloaded = drive.CreateFile({'id':id}) \n",
        "downloaded.GetContentFile('wholesale-customers.csv')  \n",
        "wholesale_customers = pd.read_csv('wholesale-customers.csv')\n",
        "wholesale_customers.describe()"
      ],
      "execution_count": 0,
      "outputs": [
        {
          "output_type": "execute_result",
          "data": {
            "text/html": [
              "<div>\n",
              "<style scoped>\n",
              "    .dataframe tbody tr th:only-of-type {\n",
              "        vertical-align: middle;\n",
              "    }\n",
              "\n",
              "    .dataframe tbody tr th {\n",
              "        vertical-align: top;\n",
              "    }\n",
              "\n",
              "    .dataframe thead th {\n",
              "        text-align: right;\n",
              "    }\n",
              "</style>\n",
              "<table border=\"1\" class=\"dataframe\">\n",
              "  <thead>\n",
              "    <tr style=\"text-align: right;\">\n",
              "      <th></th>\n",
              "      <th>Channel</th>\n",
              "      <th>Region</th>\n",
              "      <th>Fresh</th>\n",
              "      <th>Milk</th>\n",
              "      <th>Grocery</th>\n",
              "      <th>Frozen</th>\n",
              "      <th>Detergents_Paper</th>\n",
              "      <th>Delicassen</th>\n",
              "    </tr>\n",
              "  </thead>\n",
              "  <tbody>\n",
              "    <tr>\n",
              "      <th>count</th>\n",
              "      <td>440.000000</td>\n",
              "      <td>440.000000</td>\n",
              "      <td>440.000000</td>\n",
              "      <td>440.000000</td>\n",
              "      <td>440.000000</td>\n",
              "      <td>440.000000</td>\n",
              "      <td>440.000000</td>\n",
              "      <td>440.000000</td>\n",
              "    </tr>\n",
              "    <tr>\n",
              "      <th>mean</th>\n",
              "      <td>1.322727</td>\n",
              "      <td>2.543182</td>\n",
              "      <td>12000.297727</td>\n",
              "      <td>5796.265909</td>\n",
              "      <td>7951.277273</td>\n",
              "      <td>3071.931818</td>\n",
              "      <td>2881.493182</td>\n",
              "      <td>1524.870455</td>\n",
              "    </tr>\n",
              "    <tr>\n",
              "      <th>std</th>\n",
              "      <td>0.468052</td>\n",
              "      <td>0.774272</td>\n",
              "      <td>12647.328865</td>\n",
              "      <td>7380.377175</td>\n",
              "      <td>9503.162829</td>\n",
              "      <td>4854.673333</td>\n",
              "      <td>4767.854448</td>\n",
              "      <td>2820.105937</td>\n",
              "    </tr>\n",
              "    <tr>\n",
              "      <th>min</th>\n",
              "      <td>1.000000</td>\n",
              "      <td>1.000000</td>\n",
              "      <td>3.000000</td>\n",
              "      <td>55.000000</td>\n",
              "      <td>3.000000</td>\n",
              "      <td>25.000000</td>\n",
              "      <td>3.000000</td>\n",
              "      <td>3.000000</td>\n",
              "    </tr>\n",
              "    <tr>\n",
              "      <th>25%</th>\n",
              "      <td>1.000000</td>\n",
              "      <td>2.000000</td>\n",
              "      <td>3127.750000</td>\n",
              "      <td>1533.000000</td>\n",
              "      <td>2153.000000</td>\n",
              "      <td>742.250000</td>\n",
              "      <td>256.750000</td>\n",
              "      <td>408.250000</td>\n",
              "    </tr>\n",
              "    <tr>\n",
              "      <th>50%</th>\n",
              "      <td>1.000000</td>\n",
              "      <td>3.000000</td>\n",
              "      <td>8504.000000</td>\n",
              "      <td>3627.000000</td>\n",
              "      <td>4755.500000</td>\n",
              "      <td>1526.000000</td>\n",
              "      <td>816.500000</td>\n",
              "      <td>965.500000</td>\n",
              "    </tr>\n",
              "    <tr>\n",
              "      <th>75%</th>\n",
              "      <td>2.000000</td>\n",
              "      <td>3.000000</td>\n",
              "      <td>16933.750000</td>\n",
              "      <td>7190.250000</td>\n",
              "      <td>10655.750000</td>\n",
              "      <td>3554.250000</td>\n",
              "      <td>3922.000000</td>\n",
              "      <td>1820.250000</td>\n",
              "    </tr>\n",
              "    <tr>\n",
              "      <th>max</th>\n",
              "      <td>2.000000</td>\n",
              "      <td>3.000000</td>\n",
              "      <td>112151.000000</td>\n",
              "      <td>73498.000000</td>\n",
              "      <td>92780.000000</td>\n",
              "      <td>60869.000000</td>\n",
              "      <td>40827.000000</td>\n",
              "      <td>47943.000000</td>\n",
              "    </tr>\n",
              "  </tbody>\n",
              "</table>\n",
              "</div>"
            ],
            "text/plain": [
              "          Channel      Region          Fresh          Milk       Grocery  \\\n",
              "count  440.000000  440.000000     440.000000    440.000000    440.000000   \n",
              "mean     1.322727    2.543182   12000.297727   5796.265909   7951.277273   \n",
              "std      0.468052    0.774272   12647.328865   7380.377175   9503.162829   \n",
              "min      1.000000    1.000000       3.000000     55.000000      3.000000   \n",
              "25%      1.000000    2.000000    3127.750000   1533.000000   2153.000000   \n",
              "50%      1.000000    3.000000    8504.000000   3627.000000   4755.500000   \n",
              "75%      2.000000    3.000000   16933.750000   7190.250000  10655.750000   \n",
              "max      2.000000    3.000000  112151.000000  73498.000000  92780.000000   \n",
              "\n",
              "             Frozen  Detergents_Paper    Delicassen  \n",
              "count    440.000000        440.000000    440.000000  \n",
              "mean    3071.931818       2881.493182   1524.870455  \n",
              "std     4854.673333       4767.854448   2820.105937  \n",
              "min       25.000000          3.000000      3.000000  \n",
              "25%      742.250000        256.750000    408.250000  \n",
              "50%     1526.000000        816.500000    965.500000  \n",
              "75%     3554.250000       3922.000000   1820.250000  \n",
              "max    60869.000000      40827.000000  47943.000000  "
            ]
          },
          "metadata": {
            "tags": []
          },
          "execution_count": 4
        }
      ]
    },
    {
      "cell_type": "markdown",
      "metadata": {
        "id": "jkj72Y_4v_IM",
        "colab_type": "text"
      },
      "source": [
        "# **OLS**"
      ]
    },
    {
      "cell_type": "code",
      "metadata": {
        "id": "CVmm0h-5O2-i",
        "colab_type": "code",
        "colab": {}
      },
      "source": [
        "wine_X = winequality_red.copy().drop('quality', axis = 1)\n",
        "wine_Y = pd.DataFrame(winequality_red['quality'])\n",
        "\n",
        "wine_X_OLS = wine_X.copy()\n",
        "wine_X_OLS['intercept'] = np.ones(winequality_red.shape[0])\n",
        "\n",
        "wine_OLS_coeffs = np.linalg.lstsq(wine_X_OLS, wine_Y, rcond=None)[0]\n",
        "#print(\"OLS Coefficients: \", wine_OLS_coeffs)"
      ],
      "execution_count": 0,
      "outputs": []
    },
    {
      "cell_type": "code",
      "metadata": {
        "id": "Zs8OenrswW4_",
        "colab_type": "code",
        "outputId": "41e63dc7-7ded-4bf9-ee89-521e0f6151bd",
        "colab": {
          "base_uri": "https://localhost:8080/",
          "height": 457
        }
      },
      "source": [
        "OLS_result = pd.DataFrame( wine_OLS_coeffs, list(wine_X_OLS), columns = [\"Coefficient\"])\n",
        "OLS_result.index.name = \"Features\"\n",
        "OLS_result"
      ],
      "execution_count": 0,
      "outputs": [
        {
          "output_type": "execute_result",
          "data": {
            "text/html": [
              "<div>\n",
              "<style scoped>\n",
              "    .dataframe tbody tr th:only-of-type {\n",
              "        vertical-align: middle;\n",
              "    }\n",
              "\n",
              "    .dataframe tbody tr th {\n",
              "        vertical-align: top;\n",
              "    }\n",
              "\n",
              "    .dataframe thead th {\n",
              "        text-align: right;\n",
              "    }\n",
              "</style>\n",
              "<table border=\"1\" class=\"dataframe\">\n",
              "  <thead>\n",
              "    <tr style=\"text-align: right;\">\n",
              "      <th></th>\n",
              "      <th>Coefficient</th>\n",
              "    </tr>\n",
              "    <tr>\n",
              "      <th>Features</th>\n",
              "      <th></th>\n",
              "    </tr>\n",
              "  </thead>\n",
              "  <tbody>\n",
              "    <tr>\n",
              "      <th>fixed acidity</th>\n",
              "      <td>0.024991</td>\n",
              "    </tr>\n",
              "    <tr>\n",
              "      <th>volatile acidity</th>\n",
              "      <td>-1.083590</td>\n",
              "    </tr>\n",
              "    <tr>\n",
              "      <th>citric acid</th>\n",
              "      <td>-0.182564</td>\n",
              "    </tr>\n",
              "    <tr>\n",
              "      <th>residual sugar</th>\n",
              "      <td>0.016331</td>\n",
              "    </tr>\n",
              "    <tr>\n",
              "      <th>chlorides</th>\n",
              "      <td>-1.874225</td>\n",
              "    </tr>\n",
              "    <tr>\n",
              "      <th>free sulfur dioxide</th>\n",
              "      <td>0.004361</td>\n",
              "    </tr>\n",
              "    <tr>\n",
              "      <th>total sulfur dioxide</th>\n",
              "      <td>-0.003265</td>\n",
              "    </tr>\n",
              "    <tr>\n",
              "      <th>density</th>\n",
              "      <td>-17.881164</td>\n",
              "    </tr>\n",
              "    <tr>\n",
              "      <th>pH</th>\n",
              "      <td>-0.413653</td>\n",
              "    </tr>\n",
              "    <tr>\n",
              "      <th>sulphates</th>\n",
              "      <td>0.916334</td>\n",
              "    </tr>\n",
              "    <tr>\n",
              "      <th>alcohol</th>\n",
              "      <td>0.276198</td>\n",
              "    </tr>\n",
              "    <tr>\n",
              "      <th>intercept</th>\n",
              "      <td>21.965208</td>\n",
              "    </tr>\n",
              "  </tbody>\n",
              "</table>\n",
              "</div>"
            ],
            "text/plain": [
              "                      Coefficient\n",
              "Features                         \n",
              "fixed acidity            0.024991\n",
              "volatile acidity        -1.083590\n",
              "citric acid             -0.182564\n",
              "residual sugar           0.016331\n",
              "chlorides               -1.874225\n",
              "free sulfur dioxide      0.004361\n",
              "total sulfur dioxide    -0.003265\n",
              "density                -17.881164\n",
              "pH                      -0.413653\n",
              "sulphates                0.916334\n",
              "alcohol                  0.276198\n",
              "intercept               21.965208"
            ]
          },
          "metadata": {
            "tags": []
          },
          "execution_count": 6
        }
      ]
    },
    {
      "cell_type": "markdown",
      "metadata": {
        "id": "iryXFzzBtPdq",
        "colab_type": "text"
      },
      "source": [
        "# **Ridge Regression**"
      ]
    },
    {
      "cell_type": "code",
      "metadata": {
        "id": "QGj8jod2hwtB",
        "colab_type": "code",
        "colab": {}
      },
      "source": [
        "# Function to compute coefficients with ridge regression given a lambda value\n",
        "def ridge_compute(lambda_try, wine_X_train, wine_Y_train):\n",
        "  wine_ridge = Ridge(alpha=lambda_try, fit_intercept = True, normalize= True, copy_X = True)\n",
        "  fit_vals = wine_ridge.fit(wine_X_train, wine_Y_train)\n",
        "  return [fit_vals.coef_, fit_vals.intercept_]"
      ],
      "execution_count": 0,
      "outputs": []
    },
    {
      "cell_type": "code",
      "metadata": {
        "id": "sHzs66nibP9v",
        "colab_type": "code",
        "outputId": "4bceeb75-148d-4c52-812c-5f170849e606",
        "colab": {
          "base_uri": "https://localhost:8080/",
          "height": 54
        }
      },
      "source": [
        "# Cross-validation to find ideal lambda using k-out method\n",
        "n = wine_X.shape[0] # getting number of test points\n",
        "z = 11 # number of test alphas\n",
        "lambda_try = np.linspace(0.0, 1.0, num=z) # creating set of trial lambdas\n",
        "\n",
        "k = 100 # leave out value\n",
        "repetitions = 10 # how many times to try validating\n",
        "errors = np.zeros(len(lambda_try))\n",
        "for r in range(repetitions):\n",
        "  random_indicies = np.random.permutation(n)[0:k] # choose k to leave out\n",
        "  for j in range(z): # trying each of the lambdas\n",
        "    coeffs = ridge_compute(lambda_try[j], wine_X.iloc[[m for m in range(n) if m not in random_indicies]], wine_Y.iloc[[m for m in range(n) if m not in random_indicies]]) #fit model using lambda_try[j] on wine_X, wine_Y not at chosen indicies    \n",
        "    errors[j] = errors[j] + sum([(np.dot(coeffs[0], wine_X.iloc[i]) + coeffs[1] - wine_Y.iloc[i])**2 for i in random_indicies]) # find error on chosen points using above coefficients and adding to total  \n",
        "\n",
        "min_cross_validation_error = np.argmin(errors) \n",
        "print(\"Minimum Cross Validation error is: \", min_cross_validation_error)\n",
        "lambda_star = lambda_try[min_cross_validation_error] # choose lambda with smallest error\n",
        "print(\"Lambda with Minimum Error is: \", lambda_star)"
      ],
      "execution_count": 0,
      "outputs": [
        {
          "output_type": "stream",
          "text": [
            "Minimum Cross Validation error is:  0\n",
            "Lambda with Minimum Error is:  0.0\n"
          ],
          "name": "stdout"
        }
      ]
    },
    {
      "cell_type": "code",
      "metadata": {
        "id": "Us9RMK22esKu",
        "colab_type": "code",
        "outputId": "54d59fa6-dfe3-4d35-e74d-010632c4add5",
        "colab": {
          "base_uri": "https://localhost:8080/",
          "height": 313
        }
      },
      "source": [
        "plt.plot(lambda_try, errors)\n",
        "plt.xlabel(\"Tuning Parameter\")\n",
        "plt.ylabel(\"Cross Validation Error\")\n",
        "plt.title(\"Ridge Regression Tuning Parameter vs Cross Validation Error\")"
      ],
      "execution_count": 0,
      "outputs": [
        {
          "output_type": "execute_result",
          "data": {
            "text/plain": [
              "Text(0.5, 1.0, 'Ridge Regression Tuning Parameter vs Cross Validation Error')"
            ]
          },
          "metadata": {
            "tags": []
          },
          "execution_count": 9
        },
        {
          "output_type": "display_data",
          "data": {
            "image/png": "[encoded data removed]",
            "text/plain": [
              "<Figure size 432x288 with 1 Axes>"
            ]
          },
          "metadata": {
            "tags": []
          }
        }
      ]
    },
    {
      "cell_type": "code",
      "metadata": {
        "id": "jzI6AW2WzzID",
        "colab_type": "code",
        "outputId": "382c0ade-5111-4ae6-faa3-d7e7b7e2911d",
        "colab": {
          "base_uri": "https://localhost:8080/",
          "height": 457
        }
      },
      "source": [
        "# Finding coefficients based on best lambda\n",
        "wine_ridge = Ridge(alpha=lambda_star, fit_intercept = True, normalize= True, copy_X = True)\n",
        "wine_ridge_coeffs = np.append(wine_ridge.fit(wine_X, wine_Y).coef_, wine_ridge.fit(wine_X, wine_Y).intercept_)\n",
        "\n",
        "ridge_result = pd.DataFrame(wine_ridge_coeffs.T, list(wine_X) + ['intercept'], columns = [\"Coefficient\"])\n",
        "ridge_result.index.name = \"Features\"\n",
        "ridge_result"
      ],
      "execution_count": 0,
      "outputs": [
        {
          "output_type": "execute_result",
          "data": {
            "text/html": [
              "<div>\n",
              "<style scoped>\n",
              "    .dataframe tbody tr th:only-of-type {\n",
              "        vertical-align: middle;\n",
              "    }\n",
              "\n",
              "    .dataframe tbody tr th {\n",
              "        vertical-align: top;\n",
              "    }\n",
              "\n",
              "    .dataframe thead th {\n",
              "        text-align: right;\n",
              "    }\n",
              "</style>\n",
              "<table border=\"1\" class=\"dataframe\">\n",
              "  <thead>\n",
              "    <tr style=\"text-align: right;\">\n",
              "      <th></th>\n",
              "      <th>Coefficient</th>\n",
              "    </tr>\n",
              "    <tr>\n",
              "      <th>Features</th>\n",
              "      <th></th>\n",
              "    </tr>\n",
              "  </thead>\n",
              "  <tbody>\n",
              "    <tr>\n",
              "      <th>fixed acidity</th>\n",
              "      <td>0.024991</td>\n",
              "    </tr>\n",
              "    <tr>\n",
              "      <th>volatile acidity</th>\n",
              "      <td>-1.083590</td>\n",
              "    </tr>\n",
              "    <tr>\n",
              "      <th>citric acid</th>\n",
              "      <td>-0.182564</td>\n",
              "    </tr>\n",
              "    <tr>\n",
              "      <th>residual sugar</th>\n",
              "      <td>0.016331</td>\n",
              "    </tr>\n",
              "    <tr>\n",
              "      <th>chlorides</th>\n",
              "      <td>-1.874225</td>\n",
              "    </tr>\n",
              "    <tr>\n",
              "      <th>free sulfur dioxide</th>\n",
              "      <td>0.004361</td>\n",
              "    </tr>\n",
              "    <tr>\n",
              "      <th>total sulfur dioxide</th>\n",
              "      <td>-0.003265</td>\n",
              "    </tr>\n",
              "    <tr>\n",
              "      <th>density</th>\n",
              "      <td>-17.881164</td>\n",
              "    </tr>\n",
              "    <tr>\n",
              "      <th>pH</th>\n",
              "      <td>-0.413653</td>\n",
              "    </tr>\n",
              "    <tr>\n",
              "      <th>sulphates</th>\n",
              "      <td>0.916334</td>\n",
              "    </tr>\n",
              "    <tr>\n",
              "      <th>alcohol</th>\n",
              "      <td>0.276198</td>\n",
              "    </tr>\n",
              "    <tr>\n",
              "      <th>intercept</th>\n",
              "      <td>21.965208</td>\n",
              "    </tr>\n",
              "  </tbody>\n",
              "</table>\n",
              "</div>"
            ],
            "text/plain": [
              "                      Coefficient\n",
              "Features                         \n",
              "fixed acidity            0.024991\n",
              "volatile acidity        -1.083590\n",
              "citric acid             -0.182564\n",
              "residual sugar           0.016331\n",
              "chlorides               -1.874225\n",
              "free sulfur dioxide      0.004361\n",
              "total sulfur dioxide    -0.003265\n",
              "density                -17.881164\n",
              "pH                      -0.413653\n",
              "sulphates                0.916334\n",
              "alcohol                  0.276198\n",
              "intercept               21.965208"
            ]
          },
          "metadata": {
            "tags": []
          },
          "execution_count": 10
        }
      ]
    },
    {
      "cell_type": "markdown",
      "metadata": {
        "id": "foe9qXNI3Puj",
        "colab_type": "text"
      },
      "source": [
        "# Lasso **Regression**"
      ]
    },
    {
      "cell_type": "code",
      "metadata": {
        "id": "Oxaj9nnfxtVP",
        "colab_type": "code",
        "colab": {}
      },
      "source": [
        "# remove warnings\n",
        "import warnings\n",
        "warnings.filterwarnings(\"ignore\", category=UserWarning)"
      ],
      "execution_count": 0,
      "outputs": []
    },
    {
      "cell_type": "code",
      "metadata": {
        "id": "1y68bkN93ZgG",
        "colab_type": "code",
        "colab": {}
      },
      "source": [
        "# Function to compute coefficients with lasso regression given a lambda value\n",
        "def lasso_compute(lambda_try, wine_X_train, wine_Y_train):\n",
        "  wine_lasso = Lasso(alpha=lambda_try, fit_intercept = True, normalize= True, copy_X = True)\n",
        "  fit_vals = wine_lasso.fit(wine_X_train, wine_Y_train)\n",
        "  return [fit_vals.coef_, fit_vals.intercept_]"
      ],
      "execution_count": 0,
      "outputs": []
    },
    {
      "cell_type": "code",
      "metadata": {
        "id": "4obO7rxk3bYJ",
        "colab_type": "code",
        "outputId": "5e1b295a-2a6f-4c72-848f-d902166a1883",
        "colab": {
          "base_uri": "https://localhost:8080/",
          "height": 54
        }
      },
      "source": [
        "# Cross-validation to find ideal lambda using k-out method\n",
        "n = wine_X.shape[0] # getting number of test points\n",
        "z = 10 # number of test alphas\n",
        "lambda_try = np.linspace(0.0, 1.0, num=z) # creating set of trial lambdas\n",
        "k = 10 # leave out value\n",
        "repetitions = 100 # how many times to try validating\n",
        "errors = np.zeros(z)\n",
        "for r in range(repetitions):\n",
        "  random_indicies = np.random.permutation(n)[0:k] # choose k to leave out\n",
        "  for j in range(z): # trying each of the lambdas\n",
        "    coeffs = lasso_compute(lambda_try[j], wine_X.iloc[[m for m in range(n) if m not in random_indicies]], wine_Y.iloc[[m for m in range(n) if m not in random_indicies]]) #fit model using lambda_try[j] on wine_X, wine_Y not at chosen indicies    \n",
        "    errors[j] = errors[j] + sum([(np.dot(coeffs[0], wine_X.iloc[i]) + coeffs[1] - wine_Y.iloc[i])**2 for i in random_indicies]) # find error on chosen points using above coefficients and adding to total  \n",
        "\n",
        "min_cross_validation_error = np.argmin(errors) \n",
        "print(\"Minimum Cross Validation error is: \", min_cross_validation_error)\n",
        "lambda_star = lambda_try[min_cross_validation_error] # choose lambda with smallest error\n",
        "print(\"Lambda with Minimum Error is: \", lambda_star)"
      ],
      "execution_count": 0,
      "outputs": [
        {
          "output_type": "stream",
          "text": [
            "Minimum Cross Validation error is:  0\n",
            "Lambda with Minimum Error is:  0.0\n"
          ],
          "name": "stdout"
        }
      ]
    },
    {
      "cell_type": "code",
      "metadata": {
        "id": "xQDehKLG3fHq",
        "colab_type": "code",
        "outputId": "05cdd099-401a-479e-c10e-394168a5b0aa",
        "colab": {
          "base_uri": "https://localhost:8080/",
          "height": 313
        }
      },
      "source": [
        "plt.plot(lambda_try, errors)\n",
        "plt.xlabel(\"Tuning Parameter\")\n",
        "plt.ylabel(\"Cross Validation Error\")\n",
        "plt.title(\"Lasso Regression Tuning Parameter vs Cross Validation Error\")"
      ],
      "execution_count": 0,
      "outputs": [
        {
          "output_type": "execute_result",
          "data": {
            "text/plain": [
              "Text(0.5, 1.0, 'Lasso Regression Tuning Parameter vs Cross Validation Error')"
            ]
          },
          "metadata": {
            "tags": []
          },
          "execution_count": 14
        },
        {
          "output_type": "display_data",
          "data": {
            "image/png": "[encoded data removed]",
            "text/plain": [
              "<Figure size 432x288 with 1 Axes>"
            ]
          },
          "metadata": {
            "tags": []
          }
        }
      ]
    },
    {
      "cell_type": "code",
      "metadata": {
        "id": "ktfzLtdU3Zuk",
        "colab_type": "code",
        "outputId": "ac42379c-b1b7-4989-f1c3-85304739fae3",
        "colab": {
          "base_uri": "https://localhost:8080/",
          "height": 457
        }
      },
      "source": [
        "# Finding coefficients based on best lambda\n",
        "wine_lasso = Lasso(alpha=lambda_star, fit_intercept = True, normalize= True, copy_X = True)\n",
        "wine_lasso_coeffs = np.append(wine_lasso.fit(wine_X, wine_Y).coef_, wine_lasso.fit(wine_X, wine_Y).intercept_)\n",
        "\n",
        "lasso_result = pd.DataFrame(wine_lasso_coeffs.T, list(wine_X) + ['intercept'], columns = [\"Coefficient\"])\n",
        "lasso_result.index.name = \"Features\"\n",
        "lasso_result"
      ],
      "execution_count": 0,
      "outputs": [
        {
          "output_type": "execute_result",
          "data": {
            "text/html": [
              "<div>\n",
              "<style scoped>\n",
              "    .dataframe tbody tr th:only-of-type {\n",
              "        vertical-align: middle;\n",
              "    }\n",
              "\n",
              "    .dataframe tbody tr th {\n",
              "        vertical-align: top;\n",
              "    }\n",
              "\n",
              "    .dataframe thead th {\n",
              "        text-align: right;\n",
              "    }\n",
              "</style>\n",
              "<table border=\"1\" class=\"dataframe\">\n",
              "  <thead>\n",
              "    <tr style=\"text-align: right;\">\n",
              "      <th></th>\n",
              "      <th>Coefficient</th>\n",
              "    </tr>\n",
              "    <tr>\n",
              "      <th>Features</th>\n",
              "      <th></th>\n",
              "    </tr>\n",
              "  </thead>\n",
              "  <tbody>\n",
              "    <tr>\n",
              "      <th>fixed acidity</th>\n",
              "      <td>0.024991</td>\n",
              "    </tr>\n",
              "    <tr>\n",
              "      <th>volatile acidity</th>\n",
              "      <td>-1.083590</td>\n",
              "    </tr>\n",
              "    <tr>\n",
              "      <th>citric acid</th>\n",
              "      <td>-0.182564</td>\n",
              "    </tr>\n",
              "    <tr>\n",
              "      <th>residual sugar</th>\n",
              "      <td>0.016331</td>\n",
              "    </tr>\n",
              "    <tr>\n",
              "      <th>chlorides</th>\n",
              "      <td>-1.874225</td>\n",
              "    </tr>\n",
              "    <tr>\n",
              "      <th>free sulfur dioxide</th>\n",
              "      <td>0.004361</td>\n",
              "    </tr>\n",
              "    <tr>\n",
              "      <th>total sulfur dioxide</th>\n",
              "      <td>-0.003265</td>\n",
              "    </tr>\n",
              "    <tr>\n",
              "      <th>density</th>\n",
              "      <td>-17.881164</td>\n",
              "    </tr>\n",
              "    <tr>\n",
              "      <th>pH</th>\n",
              "      <td>-0.413653</td>\n",
              "    </tr>\n",
              "    <tr>\n",
              "      <th>sulphates</th>\n",
              "      <td>0.916334</td>\n",
              "    </tr>\n",
              "    <tr>\n",
              "      <th>alcohol</th>\n",
              "      <td>0.276198</td>\n",
              "    </tr>\n",
              "    <tr>\n",
              "      <th>intercept</th>\n",
              "      <td>21.965208</td>\n",
              "    </tr>\n",
              "  </tbody>\n",
              "</table>\n",
              "</div>"
            ],
            "text/plain": [
              "                      Coefficient\n",
              "Features                         \n",
              "fixed acidity            0.024991\n",
              "volatile acidity        -1.083590\n",
              "citric acid             -0.182564\n",
              "residual sugar           0.016331\n",
              "chlorides               -1.874225\n",
              "free sulfur dioxide      0.004361\n",
              "total sulfur dioxide    -0.003265\n",
              "density                -17.881164\n",
              "pH                      -0.413653\n",
              "sulphates                0.916334\n",
              "alcohol                  0.276198\n",
              "intercept               21.965208"
            ]
          },
          "metadata": {
            "tags": []
          },
          "execution_count": 15
        }
      ]
    },
    {
      "cell_type": "markdown",
      "metadata": {
        "id": "x_RWne8ByOwg",
        "colab_type": "text"
      },
      "source": [
        "# Elastic Net"
      ]
    },
    {
      "cell_type": "code",
      "metadata": {
        "id": "Ta1bbgnNyU_R",
        "colab_type": "code",
        "colab": {}
      },
      "source": [
        "# Use https://scikit-learn.org/stable/modules/generated/sklearn.linear_model.ElasticNet.html to compute\n",
        "# Function to compute coefficients with lasso regression given a lambda value\n",
        "def elastic_compute(al, l1, wine_X_train, wine_Y_train):\n",
        "  wine_elastic = ElasticNet(alpha=al, l1_ratio=l1, fit_intercept = True, normalize= True, copy_X = True)\n",
        "  fit_vals = wine_elastic.fit(wine_X_train, wine_Y_train)\n",
        "  return [fit_vals.coef_, fit_vals.intercept_]"
      ],
      "execution_count": 0,
      "outputs": []
    },
    {
      "cell_type": "code",
      "metadata": {
        "id": "Cnqru-L0GLav",
        "colab_type": "code",
        "outputId": "5d796215-e015-4b6f-dd5c-1dcba9523a06",
        "colab": {
          "base_uri": "https://localhost:8080/",
          "height": 54
        }
      },
      "source": [
        "warnings.filterwarnings(\"ignore\", category=RuntimeWarning)\n",
        "# Cross-validation to find ideal lambdas using k-out method\n",
        "n = wine_X.shape[0] # getting number of test points\n",
        "z1 = 5 # number of test alphas\n",
        "z2 = 5\n",
        "\n",
        "lambda_try1 = np.linspace(0.0, 1.0, num=z1) # creating set of trial lambdas\n",
        "lambda_try2 = np.linspace(0.0, 1.0, num=z2) # creating set of trial lambdas\n",
        "\n",
        "k = 10 # leave out value\n",
        "repetitions = 10 # how many times to try validating\n",
        "errors = [[i, j, 0] for i in lambda_try1 for j in lambda_try2]\n",
        "\n",
        "for r in range(repetitions):\n",
        "  random_indicies = np.random.permutation(n)[0:k] # choose k to leave out\n",
        "  for i, z in enumerate(errors):\n",
        "    alpha, l1_ratio = z[0] + z[1], z[0]/(z[0] + z[1])\n",
        "    coeffs = elastic_compute(alpha, l1_ratio, wine_X.iloc[[m for m in range(n) if m not in random_indicies]], wine_Y.iloc[[m for m in range(n) if m not in random_indicies]]) #fit model using lambda_try[j] on wine_X, wine_Y not at chosen indicies    \n",
        "    errors[i][2] += sum([(np.dot(coeffs[0], wine_X.iloc[i]) + coeffs[1] - wine_Y.iloc[i].values)**2 for i in random_indicies]) # find error on chosen points using above coefficients and adding to total  \n",
        "\n",
        "sorted_error = sorted(filter(lambda x: not np.isnan(x[2]), errors), key = lambda y: y[2])\n",
        "print(\"Minimum Cross Validation error is: \", sorted_error[0][2])\n",
        "lambda1_star, lambda2_star = sorted_error[0][0], sorted_error[0][1] # choose lambdas with smallest error\n",
        "print(\"Lambdas with Minimum Error are: \", lambda1_star, \" and \", lambda2_star)"
      ],
      "execution_count": 0,
      "outputs": [
        {
          "output_type": "stream",
          "text": [
            "Minimum Cross Validation error is:  [68.46482396]\n",
            "Lambdas with Minimum Error are:  0.0  and  0.25\n"
          ],
          "name": "stdout"
        }
      ]
    },
    {
      "cell_type": "code",
      "metadata": {
        "id": "VPNAglCzZrwH",
        "colab_type": "code",
        "outputId": "f08fe48b-e742-4a8c-caac-31c467b6dd47",
        "colab": {
          "base_uri": "https://localhost:8080/",
          "height": 266
        }
      },
      "source": [
        "from mpl_toolkits.mplot3d import Axes3D\n",
        "\n",
        "fig = plt.figure()\n",
        "ax = fig.add_subplot(111, projection = '3d')#Axes3D(fig)\n",
        "\n",
        "ax.scatter(list(map(lambda x: x[0], errors)), list(map(lambda x: x[1], errors)), list(map(lambda x: x[2], errors)))\n",
        "\n",
        "ax.set_xlabel(\"Tuning Parameter L1\")\n",
        "ax.set_ylabel(\"Tuning Parameter L2\")\n",
        "ax.set_zlabel(\"Cross Validation Error\")\n",
        "plt.title(\"Lasso Regression Tuning Parameter vs Cross Validation Error\")"
      ],
      "execution_count": 0,
      "outputs": [
        {
          "output_type": "execute_result",
          "data": {
            "text/plain": [
              "Text(0.5, 0.92, 'Lasso Regression Tuning Parameter vs Cross Validation Error')"
            ]
          },
          "metadata": {
            "tags": []
          },
          "execution_count": 18
        },
        {
          "output_type": "display_data",
          "data": {
            "image/png": "[encoded data removed]",
            "text/plain": [
              "<Figure size 432x288 with 1 Axes>"
            ]
          },
          "metadata": {
            "tags": []
          }
        }
      ]
    },
    {
      "cell_type": "code",
      "metadata": {
        "id": "kafBeAoNH-7C",
        "colab_type": "code",
        "outputId": "f84e1891-9e45-4a0b-b8cc-776394d50224",
        "colab": {
          "base_uri": "https://localhost:8080/",
          "height": 457
        }
      },
      "source": [
        "# Finding coefficients based on best lambda\n",
        "al, l1 = lambda1_star + lambda2_star, lambda1_star/(lambda1_star + lambda2_star)\n",
        "wine_elastic = ElasticNet(alpha=al, l1_ratio=l1, fit_intercept = True, normalize= True, copy_X = True)\n",
        "wine_elastic_coeffs = np.append(wine_elastic.fit(wine_X, wine_Y).coef_, wine_elastic.fit(wine_X, wine_Y).intercept_)\n",
        "\n",
        "elastic_result = pd.DataFrame(wine_elastic_coeffs.T, list(wine_X) + ['intercept'], columns = [\"Coefficient\"])\n",
        "elastic_result.index.name = \"Features\"\n",
        "elastic_result"
      ],
      "execution_count": 0,
      "outputs": [
        {
          "output_type": "execute_result",
          "data": {
            "text/html": [
              "<div>\n",
              "<style scoped>\n",
              "    .dataframe tbody tr th:only-of-type {\n",
              "        vertical-align: middle;\n",
              "    }\n",
              "\n",
              "    .dataframe tbody tr th {\n",
              "        vertical-align: top;\n",
              "    }\n",
              "\n",
              "    .dataframe thead th {\n",
              "        text-align: right;\n",
              "    }\n",
              "</style>\n",
              "<table border=\"1\" class=\"dataframe\">\n",
              "  <thead>\n",
              "    <tr style=\"text-align: right;\">\n",
              "      <th></th>\n",
              "      <th>Coefficient</th>\n",
              "    </tr>\n",
              "    <tr>\n",
              "      <th>Features</th>\n",
              "      <th></th>\n",
              "    </tr>\n",
              "  </thead>\n",
              "  <tbody>\n",
              "    <tr>\n",
              "      <th>fixed acidity</th>\n",
              "      <td>0.000143</td>\n",
              "    </tr>\n",
              "    <tr>\n",
              "      <th>volatile acidity</th>\n",
              "      <td>-0.004385</td>\n",
              "    </tr>\n",
              "    <tr>\n",
              "      <th>citric acid</th>\n",
              "      <td>0.002332</td>\n",
              "    </tr>\n",
              "    <tr>\n",
              "      <th>residual sugar</th>\n",
              "      <td>0.000020</td>\n",
              "    </tr>\n",
              "    <tr>\n",
              "      <th>chlorides</th>\n",
              "      <td>-0.005519</td>\n",
              "    </tr>\n",
              "    <tr>\n",
              "      <th>free sulfur dioxide</th>\n",
              "      <td>-0.000010</td>\n",
              "    </tr>\n",
              "    <tr>\n",
              "      <th>total sulfur dioxide</th>\n",
              "      <td>-0.000011</td>\n",
              "    </tr>\n",
              "    <tr>\n",
              "      <th>density</th>\n",
              "      <td>-0.186616</td>\n",
              "    </tr>\n",
              "    <tr>\n",
              "      <th>pH</th>\n",
              "      <td>-0.000749</td>\n",
              "    </tr>\n",
              "    <tr>\n",
              "      <th>sulphates</th>\n",
              "      <td>0.002984</td>\n",
              "    </tr>\n",
              "    <tr>\n",
              "      <th>alcohol</th>\n",
              "      <td>0.000899</td>\n",
              "    </tr>\n",
              "    <tr>\n",
              "      <th>intercept</th>\n",
              "      <td>5.814780</td>\n",
              "    </tr>\n",
              "  </tbody>\n",
              "</table>\n",
              "</div>"
            ],
            "text/plain": [
              "                      Coefficient\n",
              "Features                         \n",
              "fixed acidity            0.000143\n",
              "volatile acidity        -0.004385\n",
              "citric acid              0.002332\n",
              "residual sugar           0.000020\n",
              "chlorides               -0.005519\n",
              "free sulfur dioxide     -0.000010\n",
              "total sulfur dioxide    -0.000011\n",
              "density                 -0.186616\n",
              "pH                      -0.000749\n",
              "sulphates                0.002984\n",
              "alcohol                  0.000899\n",
              "intercept                5.814780"
            ]
          },
          "metadata": {
            "tags": []
          },
          "execution_count": 19
        }
      ]
    },
    {
      "cell_type": "markdown",
      "metadata": {
        "id": "akQ86ItiwcRU",
        "colab_type": "text"
      },
      "source": [
        "# Linear SVM"
      ]
    },
    {
      "cell_type": "code",
      "metadata": {
        "id": "yQUMm8ZRFo1Q",
        "colab_type": "code",
        "outputId": "d3ac3bb2-bb72-4d2f-a875-95b38d5a8042",
        "colab": {
          "base_uri": "https://localhost:8080/",
          "height": 206
        }
      },
      "source": [
        "# Helpful link for SVM: https://sdsawtelle.github.io/blog/output/week7-andrew-ng-machine-learning-with-python.html\n",
        "wholesale_X, wholesale_Y = wholesale_customers.drop('Channel', axis = 1), wholesale_customers['Channel']\n",
        "wholesale_customers.head()"
      ],
      "execution_count": 0,
      "outputs": [
        {
          "output_type": "execute_result",
          "data": {
            "text/html": [
              "<div>\n",
              "<style scoped>\n",
              "    .dataframe tbody tr th:only-of-type {\n",
              "        vertical-align: middle;\n",
              "    }\n",
              "\n",
              "    .dataframe tbody tr th {\n",
              "        vertical-align: top;\n",
              "    }\n",
              "\n",
              "    .dataframe thead th {\n",
              "        text-align: right;\n",
              "    }\n",
              "</style>\n",
              "<table border=\"1\" class=\"dataframe\">\n",
              "  <thead>\n",
              "    <tr style=\"text-align: right;\">\n",
              "      <th></th>\n",
              "      <th>Channel</th>\n",
              "      <th>Region</th>\n",
              "      <th>Fresh</th>\n",
              "      <th>Milk</th>\n",
              "      <th>Grocery</th>\n",
              "      <th>Frozen</th>\n",
              "      <th>Detergents_Paper</th>\n",
              "      <th>Delicassen</th>\n",
              "    </tr>\n",
              "  </thead>\n",
              "  <tbody>\n",
              "    <tr>\n",
              "      <th>0</th>\n",
              "      <td>2</td>\n",
              "      <td>3</td>\n",
              "      <td>12669</td>\n",
              "      <td>9656</td>\n",
              "      <td>7561</td>\n",
              "      <td>214</td>\n",
              "      <td>2674</td>\n",
              "      <td>1338</td>\n",
              "    </tr>\n",
              "    <tr>\n",
              "      <th>1</th>\n",
              "      <td>2</td>\n",
              "      <td>3</td>\n",
              "      <td>7057</td>\n",
              "      <td>9810</td>\n",
              "      <td>9568</td>\n",
              "      <td>1762</td>\n",
              "      <td>3293</td>\n",
              "      <td>1776</td>\n",
              "    </tr>\n",
              "    <tr>\n",
              "      <th>2</th>\n",
              "      <td>2</td>\n",
              "      <td>3</td>\n",
              "      <td>6353</td>\n",
              "      <td>8808</td>\n",
              "      <td>7684</td>\n",
              "      <td>2405</td>\n",
              "      <td>3516</td>\n",
              "      <td>7844</td>\n",
              "    </tr>\n",
              "    <tr>\n",
              "      <th>3</th>\n",
              "      <td>1</td>\n",
              "      <td>3</td>\n",
              "      <td>13265</td>\n",
              "      <td>1196</td>\n",
              "      <td>4221</td>\n",
              "      <td>6404</td>\n",
              "      <td>507</td>\n",
              "      <td>1788</td>\n",
              "    </tr>\n",
              "    <tr>\n",
              "      <th>4</th>\n",
              "      <td>2</td>\n",
              "      <td>3</td>\n",
              "      <td>22615</td>\n",
              "      <td>5410</td>\n",
              "      <td>7198</td>\n",
              "      <td>3915</td>\n",
              "      <td>1777</td>\n",
              "      <td>5185</td>\n",
              "    </tr>\n",
              "  </tbody>\n",
              "</table>\n",
              "</div>"
            ],
            "text/plain": [
              "   Channel  Region  Fresh  Milk  Grocery  Frozen  Detergents_Paper  Delicassen\n",
              "0        2       3  12669  9656     7561     214              2674        1338\n",
              "1        2       3   7057  9810     9568    1762              3293        1776\n",
              "2        2       3   6353  8808     7684    2405              3516        7844\n",
              "3        1       3  13265  1196     4221    6404               507        1788\n",
              "4        2       3  22615  5410     7198    3915              1777        5185"
            ]
          },
          "metadata": {
            "tags": []
          },
          "execution_count": 20
        }
      ]
    },
    {
      "cell_type": "code",
      "metadata": {
        "id": "80iYB_0XydL7",
        "colab_type": "code",
        "outputId": "d30f3bb7-27f1-453f-dadd-4730d44f645e",
        "colab": {
          "base_uri": "https://localhost:8080/",
          "height": 332
        }
      },
      "source": [
        "linear_svc = LinearSVC()\n",
        "linear_svc_model = linear_svc.fit(wholesale_X, wholesale_Y)\n",
        "\n",
        "wholesale_linear_coeffs = np.append(linear_svc_model.coef_, linear_svc_model.intercept_)\n",
        "\n",
        "linear_svc_result = pd.DataFrame(wholesale_linear_coeffs.T, list(wholesale_X) + ['intercept'], columns = [\"Coefficient\"])\n",
        "linear_svc_result.index.name = \"Features\"\n",
        "linear_svc_result"
      ],
      "execution_count": 0,
      "outputs": [
        {
          "output_type": "execute_result",
          "data": {
            "text/html": [
              "<div>\n",
              "<style scoped>\n",
              "    .dataframe tbody tr th:only-of-type {\n",
              "        vertical-align: middle;\n",
              "    }\n",
              "\n",
              "    .dataframe tbody tr th {\n",
              "        vertical-align: top;\n",
              "    }\n",
              "\n",
              "    .dataframe thead th {\n",
              "        text-align: right;\n",
              "    }\n",
              "</style>\n",
              "<table border=\"1\" class=\"dataframe\">\n",
              "  <thead>\n",
              "    <tr style=\"text-align: right;\">\n",
              "      <th></th>\n",
              "      <th>Coefficient</th>\n",
              "    </tr>\n",
              "    <tr>\n",
              "      <th>Features</th>\n",
              "      <th></th>\n",
              "    </tr>\n",
              "  </thead>\n",
              "  <tbody>\n",
              "    <tr>\n",
              "      <th>Region</th>\n",
              "      <td>-0.011937</td>\n",
              "    </tr>\n",
              "    <tr>\n",
              "      <th>Fresh</th>\n",
              "      <td>-0.000225</td>\n",
              "    </tr>\n",
              "    <tr>\n",
              "      <th>Milk</th>\n",
              "      <td>0.000054</td>\n",
              "    </tr>\n",
              "    <tr>\n",
              "      <th>Grocery</th>\n",
              "      <td>-0.000005</td>\n",
              "    </tr>\n",
              "    <tr>\n",
              "      <th>Frozen</th>\n",
              "      <td>-0.000663</td>\n",
              "    </tr>\n",
              "    <tr>\n",
              "      <th>Detergents_Paper</th>\n",
              "      <td>0.000211</td>\n",
              "    </tr>\n",
              "    <tr>\n",
              "      <th>Delicassen</th>\n",
              "      <td>-0.000005</td>\n",
              "    </tr>\n",
              "    <tr>\n",
              "      <th>intercept</th>\n",
              "      <td>-0.004178</td>\n",
              "    </tr>\n",
              "  </tbody>\n",
              "</table>\n",
              "</div>"
            ],
            "text/plain": [
              "                  Coefficient\n",
              "Features                     \n",
              "Region              -0.011937\n",
              "Fresh               -0.000225\n",
              "Milk                 0.000054\n",
              "Grocery             -0.000005\n",
              "Frozen              -0.000663\n",
              "Detergents_Paper     0.000211\n",
              "Delicassen          -0.000005\n",
              "intercept           -0.004178"
            ]
          },
          "metadata": {
            "tags": []
          },
          "execution_count": 21
        }
      ]
    },
    {
      "cell_type": "markdown",
      "metadata": {
        "id": "CB_dnyBkFRQU",
        "colab_type": "text"
      },
      "source": [
        "# SVM With Polynomial Kernel\n",
        "\n"
      ]
    },
    {
      "cell_type": "code",
      "metadata": {
        "id": "1OUt3GGIydWg",
        "colab_type": "code",
        "colab": {}
      },
      "source": [
        "from sklearn.preprocessing import MinMaxScaler\n",
        "scaling = MinMaxScaler(feature_range=(1,2)).fit(wholesale_X)\n",
        "wholesale_X_sc = pd.DataFrame(scaling.transform(wholesale_X)) # scaling data"
      ],
      "execution_count": 0,
      "outputs": []
    },
    {
      "cell_type": "code",
      "metadata": {
        "id": "f5DtSqfVoVtb",
        "colab_type": "code",
        "colab": {}
      },
      "source": [
        "# Function to compute coefficients with ridge regression given a lambda value\n",
        "def poly_SVM(gamma_try, wholesale_X_train, wholesale_Y_train):\n",
        "  poly_svc = SVC(kernel = 'poly', gamma = gamma_try)\n",
        "  poly_svc_model = poly_svc.fit(wholesale_X_train, wholesale_Y_train)\n",
        "  return poly_svc_model"
      ],
      "execution_count": 0,
      "outputs": []
    },
    {
      "cell_type": "code",
      "metadata": {
        "id": "68qhAelmoWeF",
        "colab_type": "code",
        "outputId": "32084e26-cc38-432f-ea6c-07dfbd8b02c5",
        "colab": {
          "base_uri": "https://localhost:8080/",
          "height": 54
        }
      },
      "source": [
        "### USING ACCURACY SCORES\n",
        "# Cross-validation to find ideal gamma using k-out method\n",
        "n = wholesale_X_sc.shape[0] # getting number of test points\n",
        "z = 10 # number of test alphas\n",
        "gamma_try = np.linspace(0.1, 5.1, num=z) # creating set of trial gammas\n",
        "\n",
        "k = 100 # leave out value\n",
        "repetitions = 10 # how many times to try validating\n",
        "accuracies = np.zeros(len(gamma_try))\n",
        "for r in range(repetitions):\n",
        "  random_indicies = np.random.permutation(n)[0:k] # choose k to leave out\n",
        "  for j in range(z): # trying each of the gammas\n",
        "    model = poly_SVM(gamma_try[j], wholesale_X_sc.iloc[[m for m in range(n) if m not in random_indicies]], wholesale_Y.iloc[[m for m in range(n) if m not in random_indicies]]) #fit model using gamma_try[j] on wholesale_X, wholesale_Y not at chosen indicies    \n",
        "    accuracies[j] += model.score([np.array(wholesale_X_sc.iloc[i]) for i in random_indicies], [wholesale_Y.iloc[i] for i in random_indicies]) # score is mean accuracy on the given test data and labels # find error on chosen points using above coefficients and adding to total, R^2  \n",
        "\n",
        "max_accuracy_ind = np.argmax(accuracies) \n",
        "max_cross_validation_accuracy = max(accuracies)\n",
        "print(\"Maximum R^2 Cross Validation sum total is: \", max_cross_validation_accuracy)\n",
        "gamma_star = gamma_try[max_accuracy_ind] # choose gamma with most accuracy\n",
        "print(\"Gamma with Maximum Accuracy is: \", gamma_star)"
      ],
      "execution_count": 0,
      "outputs": [
        {
          "output_type": "stream",
          "text": [
            "Maximum R^2 Cross Validation sum total is:  9.209999999999999\n",
            "Gamma with Maximum Accuracy is:  0.6555555555555556\n"
          ],
          "name": "stdout"
        }
      ]
    },
    {
      "cell_type": "code",
      "metadata": {
        "id": "2KgLonbIoaYd",
        "colab_type": "code",
        "outputId": "2434b6bb-3b55-4342-b7db-350cb535ef1c",
        "colab": {
          "base_uri": "https://localhost:8080/",
          "height": 313
        }
      },
      "source": [
        "plt.plot(gamma_try, accuracies)\n",
        "plt.xlabel(\"Tuning Parameter\")\n",
        "plt.ylabel(\"Cross Validation Accuracies\")\n",
        "plt.title(\"Ridge Regression Tuning Parameter vs Cross Validation Accuracies\")"
      ],
      "execution_count": 0,
      "outputs": [
        {
          "output_type": "execute_result",
          "data": {
            "text/plain": [
              "Text(0.5, 1.0, 'Ridge Regression Tuning Parameter vs Cross Validation Accuracies')"
            ]
          },
          "metadata": {
            "tags": []
          },
          "execution_count": 25
        },
        {
          "output_type": "display_data",
          "data": {
            "image/png": "[encoded data removed]",
            "text/plain": [
              "<Figure size 432x288 with 1 Axes>"
            ]
          },
          "metadata": {
            "tags": []
          }
        }
      ]
    },
    {
      "cell_type": "code",
      "metadata": {
        "id": "hVxAQuY0vD7a",
        "colab_type": "code",
        "outputId": "56b41b10-8cee-4580-cfae-ef989f3318b1",
        "colab": {
          "base_uri": "https://localhost:8080/",
          "height": 54
        }
      },
      "source": [
        "### USING ERRORS\n",
        "# Cross-validation to find ideal gamma using k-out method\n",
        "n = wholesale_X_sc.shape[0] # getting number of test points\n",
        "z = 10 # number of test alphas\n",
        "gamma_try = np.linspace(0.1, 5.1, num=z) # creating set of trial gammas\n",
        "\n",
        "k = 100 # leave out value\n",
        "repetitions = 10 # how many times to try validating\n",
        "errors = np.zeros(len(gamma_try))\n",
        "for r in range(repetitions):\n",
        "  random_indicies = np.random.permutation(n)[0:k] # choose k to leave out\n",
        "  for j in range(z): # trying each of the gammas\n",
        "    model = poly_SVM(gamma_try[j], wholesale_X_sc.iloc[[m for m in range(n) if m not in random_indicies]], wholesale_Y.iloc[[m for m in range(n) if m not in random_indicies]]) #fit model using gamma_try[j] on wholesale_X, wholesale_Y not at chosen indicies    \n",
        "    errors[j] += sum(np.square(model.predict([np.array(wholesale_X_sc.iloc[i]) for i in random_indicies]) - np.array([wholesale_Y.iloc[i] for i in random_indicies])))\n",
        "\n",
        "min_error_ind = np.argmin(errors) \n",
        "min_cross_validation_error = min(errors)\n",
        "print(\"Minimum Cross Validation Error is: \", min_cross_validation_error)\n",
        "gamma_star = gamma_try[min_error_ind] # choose gamma with most accuracy\n",
        "print(\"Gamma with Minimum Error is: \", gamma_star)"
      ],
      "execution_count": 0,
      "outputs": [
        {
          "output_type": "stream",
          "text": [
            "Minimum Cross Validation Error is:  70.0\n",
            "Gamma with Minimum Error is:  5.1\n"
          ],
          "name": "stdout"
        }
      ]
    },
    {
      "cell_type": "code",
      "metadata": {
        "id": "_Gr2-KyVzBru",
        "colab_type": "code",
        "outputId": "aa2a7652-c2fd-4b5b-864a-6eb77c41a686",
        "colab": {
          "base_uri": "https://localhost:8080/",
          "height": 313
        }
      },
      "source": [
        "plt.plot(gamma_try, errors)\n",
        "plt.xlabel(\"Tuning Parameter\")\n",
        "plt.ylabel(\"Cross Validation Error\")\n",
        "plt.title(\"Ridge Regression Tuning Parameter vs Cross Validation Error\")"
      ],
      "execution_count": 0,
      "outputs": [
        {
          "output_type": "execute_result",
          "data": {
            "text/plain": [
              "Text(0.5, 1.0, 'Ridge Regression Tuning Parameter vs Cross Validation Error')"
            ]
          },
          "metadata": {
            "tags": []
          },
          "execution_count": 27
        },
        {
          "output_type": "display_data",
          "data": {
            "image/png": "[encoded data removed]",
            "text/plain": [
              "<Figure size 432x288 with 1 Axes>"
            ]
          },
          "metadata": {
            "tags": []
          }
        }
      ]
    },
    {
      "cell_type": "markdown",
      "metadata": {
        "id": "z7z3H4fpFRjc",
        "colab_type": "text"
      },
      "source": [
        "# SVM With Gaussian Kernel"
      ]
    },
    {
      "cell_type": "code",
      "metadata": {
        "id": "jX29Hx4xkqmn",
        "colab_type": "code",
        "colab": {}
      },
      "source": [
        "# Function to compute coefficients with ridge regression given a lambda value\n",
        "def gauss_SVM(gamma_try, wholesale_X_train, wholesale_Y_train):\n",
        "  gauss_svc = SVC(kernel = 'rbf', gamma = gamma_try)\n",
        "  gauss_svc_model = gauss_svc.fit(wholesale_X_train, wholesale_Y_train)\n",
        "  return gauss_svc_model"
      ],
      "execution_count": 0,
      "outputs": []
    },
    {
      "cell_type": "code",
      "metadata": {
        "id": "-u4NVIg910G2",
        "colab_type": "code",
        "outputId": "643441d4-7421-4815-fc17-afffb38aee22",
        "colab": {
          "base_uri": "https://localhost:8080/",
          "height": 54
        }
      },
      "source": [
        "### USING ERRORS\n",
        "# Cross-validation to find ideal gamma using k-out method\n",
        "n = wholesale_X_sc.shape[0] # getting number of test points\n",
        "z = 10 # number of test alphas\n",
        "gamma_try = np.linspace(0.1, 5.1, num=z) # creating set of trial gammas\n",
        "\n",
        "k = 100 # leave out value\n",
        "repetitions = 10 # how many times to try validating\n",
        "errors = np.zeros(len(gamma_try))\n",
        "for r in range(repetitions):\n",
        "  random_indicies = np.random.permutation(n)[0:k] # choose k to leave out\n",
        "  for j in range(z): # trying each of the gammas\n",
        "    model = gauss_SVM(gamma_try[j], wholesale_X_sc.iloc[[m for m in range(n) if m not in random_indicies]], wholesale_Y.iloc[[m for m in range(n) if m not in random_indicies]]) #fit model using gamma_try[j] on wholesale_X, wholesale_Y not at chosen indicies    \n",
        "    errors[j] += sum(np.square(model.predict([np.array(wholesale_X_sc.iloc[i]) for i in random_indicies]) - np.array([wholesale_Y.iloc[i] for i in random_indicies])))\n",
        "\n",
        "min_error_ind = np.argmin(errors) \n",
        "min_cross_validation_error = min(errors)\n",
        "print(\"Minimum Cross Validation Error is: \", min_cross_validation_error)\n",
        "gamma_star = gamma_try[min_error_ind] # choose gamma with most accuracy\n",
        "print(\"Gamma with Minimum Error is: \", gamma_star)"
      ],
      "execution_count": 0,
      "outputs": [
        {
          "output_type": "stream",
          "text": [
            "Minimum Cross Validation Error is:  83.0\n",
            "Gamma with Minimum Error is:  4.544444444444444\n"
          ],
          "name": "stdout"
        }
      ]
    },
    {
      "cell_type": "code",
      "metadata": {
        "id": "BcEv4ZCl15ZH",
        "colab_type": "code",
        "outputId": "fc720ff2-ccab-41fa-c29e-951102633540",
        "colab": {
          "base_uri": "https://localhost:8080/",
          "height": 313
        }
      },
      "source": [
        "plt.plot(gamma_try, errors)\n",
        "plt.xlabel(\"Tuning Parameter\")\n",
        "plt.ylabel(\"Cross Validation Error\")\n",
        "plt.title(\"Ridge Regression Tuning Parameter vs Cross Validation Error\")"
      ],
      "execution_count": 0,
      "outputs": [
        {
          "output_type": "execute_result",
          "data": {
            "text/plain": [
              "Text(0.5, 1.0, 'Ridge Regression Tuning Parameter vs Cross Validation Error')"
            ]
          },
          "metadata": {
            "tags": []
          },
          "execution_count": 30
        },
        {
          "output_type": "display_data",
          "data": {
            "image/png": "[encoded data removed]",
            "text/plain": [
              "<Figure size 432x288 with 1 Axes>"
            ]
          },
          "metadata": {
            "tags": []
          }
        }
      ]
    }
  ]
}